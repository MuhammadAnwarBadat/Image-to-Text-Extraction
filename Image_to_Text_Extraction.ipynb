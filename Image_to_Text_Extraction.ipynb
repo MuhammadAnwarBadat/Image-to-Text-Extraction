{
  "nbformat": 4,
  "nbformat_minor": 0,
  "metadata": {
    "colab": {
      "provenance": []
    },
    "kernelspec": {
      "name": "python3",
      "display_name": "Python 3"
    },
    "language_info": {
      "name": "python"
    }
  },
  "cells": [
    {
      "cell_type": "code",
      "source": [
        "!pip install easyocr\n"
      ],
      "metadata": {
        "id": "tffhInrI6fxx"
      },
      "execution_count": null,
      "outputs": []
    },
    {
      "cell_type": "code",
      "source": [
        "import easyocr\n",
        "\n",
        "# Create an OCR reader for English\n",
        "reader = easyocr.Reader(['en'])\n",
        "\n",
        "# Path to your image\n",
        "image_path = '/content/sample_data/test-01.jpg'\n",
        "\n",
        "# Perform OCR on the image\n",
        "results = reader.readtext(image_path)\n",
        "\n",
        "# Initialize a variable to hold all detected text\n",
        "extracted_text = \"\"\n",
        "\n",
        "# Concatenate all detected text into one string\n",
        "for (bbox, text, prob) in results:\n",
        "    extracted_text += text + \" \"\n",
        "\n",
        "# Output the final string of extracted text\n",
        "print(extracted_text.strip())\n"
      ],
      "metadata": {
        "colab": {
          "base_uri": "https://localhost:8080/"
        },
        "id": "kXAqYyYV7h8n",
        "outputId": "cb315f2f-1ba3-4471-c71b-36020bb8b804"
      },
      "execution_count": 32,
      "outputs": [
        {
          "output_type": "stream",
          "name": "stderr",
          "text": [
            "WARNING:easyocr.easyocr:Neither CUDA nor MPS are available - defaulting to CPU. Note: This module is much faster with a GPU.\n"
          ]
        },
        {
          "output_type": "stream",
          "name": "stdout",
          "text": [
            "KMR 3600\n"
          ]
        }
      ]
    }
  ]
}